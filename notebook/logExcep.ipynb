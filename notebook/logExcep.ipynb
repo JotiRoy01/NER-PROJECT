{
 "cells": [
  {
   "cell_type": "code",
   "execution_count": 1,
   "id": "583fbfb9",
   "metadata": {},
   "outputs": [],
   "source": [
    "import traceback"
   ]
  },
  {
   "cell_type": "code",
   "execution_count": 2,
   "id": "e9205ede",
   "metadata": {},
   "outputs": [],
   "source": [
    "import sys"
   ]
  },
  {
   "cell_type": "code",
   "execution_count": 3,
   "id": "dd0ec186",
   "metadata": {},
   "outputs": [
    {
     "data": {
      "text/plain": [
       "(None, None, None)"
      ]
     },
     "execution_count": 3,
     "metadata": {},
     "output_type": "execute_result"
    }
   ],
   "source": [
    "sys.exc_info()"
   ]
  },
  {
   "cell_type": "code",
   "execution_count": 28,
   "id": "c0b50d0d",
   "metadata": {},
   "outputs": [],
   "source": [
    "def error():\n",
    "    try:\n",
    "        a = 10\n",
    "        b = 0\n",
    "        c = a / b\n",
    "        return c\n",
    "    except Exception as e:\n",
    "        print(sys.exc_info())\n",
    "        #raise (e, sys) from e\n",
    "        _,_, exec_tb = sys.exc_info()\n",
    "        print(exec_tb)    \n",
    "        print(exec_tb.tb_frame)\n",
    "        print(exec_tb.tb_frame.f_lineno)\n",
    "        file_name = exec_tb.tb_frame.f_code.co_filename\n",
    "        file_code = exec_tb.tb_frame.f_code\n",
    "        print(file_code)\n",
    "        print(file_name)\n",
    "        #print(f\"An error occurred: {e}\")\n",
    "    "
   ]
  },
  {
   "cell_type": "code",
   "execution_count": 29,
   "id": "5ef782e7",
   "metadata": {},
   "outputs": [
    {
     "name": "stdout",
     "output_type": "stream",
     "text": [
      "(<class 'ZeroDivisionError'>, ZeroDivisionError('division by zero'), <traceback object at 0x00000265279EA300>)\n",
      "<traceback object at 0x00000265279EA300>\n",
      "<frame at 0x0000026525602CF0, file 'C:\\\\Users\\\\jotir\\\\AppData\\\\Local\\\\Temp\\\\ipykernel_1668\\\\310326427.py', line 12, code error>\n",
      "13\n",
      "<code object error at 0x00000265279D9FD0, file \"C:\\Users\\jotir\\AppData\\Local\\Temp\\ipykernel_1668\\310326427.py\", line 1>\n",
      "C:\\Users\\jotir\\AppData\\Local\\Temp\\ipykernel_1668\\310326427.py\n"
     ]
    }
   ],
   "source": [
    "error()"
   ]
  },
  {
   "cell_type": "code",
   "execution_count": 9,
   "id": "cc8274f8",
   "metadata": {},
   "outputs": [
    {
     "name": "stdout",
     "output_type": "stream",
     "text": [
      "<module 'sys' (built-in)>\n"
     ]
    }
   ],
   "source": [
    "print(sys)"
   ]
  },
  {
   "cell_type": "code",
   "execution_count": null,
   "id": "8ae033d6",
   "metadata": {},
   "outputs": [],
   "source": [
    "import os\n",
    "import sys\n",
    "\n",
    "class Ner_Exception(Exception) :\n",
    "    def __init__(self, error_message: Exception, error_detail:sys) :\n",
    "        super().__init__(error_message)\n",
    "        self.error_message = Ner_Exception.get_detailed_error_message(error_message=error_message,\n",
    "                                                                          error_detail=error_detail)\n",
    "\n",
    "    @staticmethod\n",
    "    def get_detailed_error_message(error_message:Exception, error_detail:sys)->str :\n",
    "        \"\"\"\n",
    "        error_message: Exception object\n",
    "        error_detail: object of sys module\n",
    "        \"\"\"\n",
    "        _,_, exec_tb = error_detail.exc_info()\n",
    "        line_number = exec_tb.tb_frame.f_lineno\n",
    "        file_name = exec_tb.tb_frame.f_code.co_filename\n",
    "\n",
    "        error_message = f\"Error occured in script: [{file_name}] at line number: [{line_number}] error message: [{error_message}]\"\n",
    "        return error_message\n",
    "    \n",
    "    def __str__(self) :\n",
    "        return self.error_message\n",
    "\n",
    "    def __repr__(self):\n",
    "        return Ner_Exception.__name__.str()"
   ]
  },
  {
   "cell_type": "code",
   "execution_count": 26,
   "id": "c9f60bef",
   "metadata": {},
   "outputs": [],
   "source": [
    "class test :\n",
    "    def add(self, a, b) :\n",
    "        return a + b\n",
    "    def __str__(self):\n",
    "        return \"string messages\"\n",
    "    def __repr__(self):\n",
    "        return self.test.__name__.str()"
   ]
  },
  {
   "cell_type": "code",
   "execution_count": 27,
   "id": "e139b1bb",
   "metadata": {},
   "outputs": [],
   "source": [
    "a = test()"
   ]
  },
  {
   "cell_type": "code",
   "execution_count": 28,
   "id": "6a260750",
   "metadata": {},
   "outputs": [
    {
     "data": {
      "text/plain": [
       "'test'"
      ]
     },
     "execution_count": 28,
     "metadata": {},
     "output_type": "execute_result"
    }
   ],
   "source": [
    "type(a).__name__"
   ]
  },
  {
   "cell_type": "code",
   "execution_count": 22,
   "id": "d2a61b51",
   "metadata": {},
   "outputs": [
    {
     "data": {
      "text/plain": [
       "__main__.test"
      ]
     },
     "execution_count": 22,
     "metadata": {},
     "output_type": "execute_result"
    }
   ],
   "source": [
    "type(a)"
   ]
  },
  {
   "cell_type": "code",
   "execution_count": 23,
   "id": "58d8b62f",
   "metadata": {},
   "outputs": [
    {
     "data": {
      "text/plain": [
       "'string messages'"
      ]
     },
     "execution_count": 23,
     "metadata": {},
     "output_type": "execute_result"
    }
   ],
   "source": [
    "str(a)"
   ]
  },
  {
   "cell_type": "code",
   "execution_count": 24,
   "id": "7541bcf0",
   "metadata": {},
   "outputs": [
    {
     "name": "stdout",
     "output_type": "stream",
     "text": [
      "string messages\n"
     ]
    }
   ],
   "source": [
    "print(a)"
   ]
  },
  {
   "cell_type": "code",
   "execution_count": 29,
   "id": "718847d0",
   "metadata": {},
   "outputs": [
    {
     "ename": "AttributeError",
     "evalue": "'test' object has no attribute 'test'",
     "output_type": "error",
     "traceback": [
      "\u001b[1;31m---------------------------------------------------------------------------\u001b[0m",
      "\u001b[1;31mAttributeError\u001b[0m                            Traceback (most recent call last)",
      "Cell \u001b[1;32mIn[29], line 1\u001b[0m\n\u001b[1;32m----> 1\u001b[0m \u001b[38;5;28;43mrepr\u001b[39;49m\u001b[43m(\u001b[49m\u001b[43ma\u001b[49m\u001b[43m)\u001b[49m\n",
      "Cell \u001b[1;32mIn[26], line 7\u001b[0m, in \u001b[0;36mtest.__repr__\u001b[1;34m(self)\u001b[0m\n\u001b[0;32m      6\u001b[0m \u001b[38;5;28;01mdef\u001b[39;00m\u001b[38;5;250m \u001b[39m\u001b[38;5;21m__repr__\u001b[39m(\u001b[38;5;28mself\u001b[39m):\n\u001b[1;32m----> 7\u001b[0m     \u001b[38;5;28;01mreturn\u001b[39;00m \u001b[38;5;28;43mself\u001b[39;49m\u001b[38;5;241;43m.\u001b[39;49m\u001b[43mtest\u001b[49m\u001b[38;5;241m.\u001b[39m\u001b[38;5;18m__name__\u001b[39m\u001b[38;5;241m.\u001b[39mstr()\n",
      "\u001b[1;31mAttributeError\u001b[0m: 'test' object has no attribute 'test'"
     ]
    }
   ],
   "source": [
    "repr(a)"
   ]
  },
  {
   "cell_type": "code",
   "execution_count": 1,
   "id": "ed9354bb",
   "metadata": {},
   "outputs": [],
   "source": [
    "import yaml"
   ]
  },
  {
   "cell_type": "code",
   "execution_count": 2,
   "id": "87a0d667",
   "metadata": {},
   "outputs": [
    {
     "ename": "TypeError",
     "evalue": "safe_load() missing 1 required positional argument: 'stream'",
     "output_type": "error",
     "traceback": [
      "\u001b[1;31m---------------------------------------------------------------------------\u001b[0m",
      "\u001b[1;31mTypeError\u001b[0m                                 Traceback (most recent call last)",
      "Cell \u001b[1;32mIn[2], line 1\u001b[0m\n\u001b[1;32m----> 1\u001b[0m \u001b[43myaml\u001b[49m\u001b[38;5;241;43m.\u001b[39;49m\u001b[43msafe_load\u001b[49m\u001b[43m(\u001b[49m\u001b[43m)\u001b[49m\n",
      "\u001b[1;31mTypeError\u001b[0m: safe_load() missing 1 required positional argument: 'stream'"
     ]
    }
   ],
   "source": [
    "yaml.safe_load()"
   ]
  },
  {
   "cell_type": "code",
   "execution_count": null,
   "id": "0532c8ea",
   "metadata": {},
   "outputs": [],
   "source": []
  }
 ],
 "metadata": {
  "kernelspec": {
   "display_name": "Python 3",
   "language": "python",
   "name": "python3"
  },
  "language_info": {
   "codemirror_mode": {
    "name": "ipython",
    "version": 3
   },
   "file_extension": ".py",
   "mimetype": "text/x-python",
   "name": "python",
   "nbconvert_exporter": "python",
   "pygments_lexer": "ipython3",
   "version": "3.10.16"
  }
 },
 "nbformat": 4,
 "nbformat_minor": 5
}
