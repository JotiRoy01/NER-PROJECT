{
 "cells": [
  {
   "cell_type": "code",
   "execution_count": 1,
   "id": "4040bc14",
   "metadata": {},
   "outputs": [],
   "source": [
    "import io\n",
    "import os\n",
    "import sys\n",
    "from pathlib import Path\n",
    "from setuptools import find_packages, setup"
   ]
  },
  {
   "cell_type": "code",
   "execution_count": 2,
   "id": "49671f4a",
   "metadata": {},
   "outputs": [
    {
     "data": {
      "text/plain": [
       "sys.version_info(major=3, minor=10, micro=16, releaselevel='final', serial=0)"
      ]
     },
     "execution_count": 2,
     "metadata": {},
     "output_type": "execute_result"
    }
   ],
   "source": [
    "sys.version_info"
   ]
  },
  {
   "cell_type": "code",
   "execution_count": 3,
   "id": "393ec2c7",
   "metadata": {},
   "outputs": [
    {
     "ename": "SystemExit",
     "evalue": "",
     "output_type": "error",
     "traceback": [
      "An exception has occurred, use %tb to see the full traceback.\n",
      "\u001b[1;31mSystemExit\u001b[0m\n"
     ]
    },
    {
     "name": "stderr",
     "output_type": "stream",
     "text": [
      "d:\\Develops\\ML_PROJECT\\NER-PROJECT\\env_NER\\lib\\site-packages\\IPython\\core\\interactiveshell.py:3587: UserWarning: To exit: use 'exit', 'quit', or Ctrl-D.\n",
      "  warn(\"To exit: use 'exit', 'quit', or Ctrl-D.\", stacklevel=1)\n"
     ]
    }
   ],
   "source": [
    "sys.exit()"
   ]
  },
  {
   "cell_type": "code",
   "execution_count": 4,
   "id": "a520d854",
   "metadata": {},
   "outputs": [],
   "source": [
    "MIN_PYTHON = (3, 8)\n",
    "if sys.version_info < MIN_PYTHON:\n",
    "    sys.exit(f\"Python {'.'.join(map(str, MIN_PYTHON))} or higher is required.\")"
   ]
  },
  {
   "cell_type": "code",
   "execution_count": 6,
   "id": "d5d91b30",
   "metadata": {},
   "outputs": [
    {
     "data": {
      "text/plain": [
       "'h.i.g.h.e.r'"
      ]
     },
     "execution_count": 6,
     "metadata": {},
     "output_type": "execute_result"
    }
   ],
   "source": [
    "\".\".join(\"higher\")"
   ]
  },
  {
   "cell_type": "code",
   "execution_count": 9,
   "id": "eea93b1b",
   "metadata": {},
   "outputs": [
    {
     "data": {
      "text/plain": [
       "'j*o*t*i'"
      ]
     },
     "execution_count": 9,
     "metadata": {},
     "output_type": "execute_result"
    }
   ],
   "source": [
    "\"*\".join(\"joti\")"
   ]
  },
  {
   "cell_type": "code",
   "execution_count": 12,
   "id": "6de7df0b",
   "metadata": {},
   "outputs": [
    {
     "data": {
      "text/plain": [
       "<map at 0x1eefccb31f0>"
      ]
     },
     "execution_count": 12,
     "metadata": {},
     "output_type": "execute_result"
    }
   ],
   "source": [
    "map(str, MIN_PYTHON)"
   ]
  },
  {
   "cell_type": "code",
   "execution_count": 30,
   "id": "902ca594",
   "metadata": {},
   "outputs": [],
   "source": [
    "def load_version() :\n",
    "    verstion_path = Path(__file__).parent/\"Joti\"/\"__version__.py\""
   ]
  },
  {
   "cell_type": "code",
   "execution_count": 31,
   "id": "543b04fd",
   "metadata": {},
   "outputs": [
    {
     "ename": "NameError",
     "evalue": "name '__file__' is not defined",
     "output_type": "error",
     "traceback": [
      "\u001b[1;31m---------------------------------------------------------------------------\u001b[0m",
      "\u001b[1;31mNameError\u001b[0m                                 Traceback (most recent call last)",
      "Cell \u001b[1;32mIn[31], line 1\u001b[0m\n\u001b[1;32m----> 1\u001b[0m \u001b[43mload_version\u001b[49m\u001b[43m(\u001b[49m\u001b[43m)\u001b[49m\n",
      "Cell \u001b[1;32mIn[30], line 2\u001b[0m, in \u001b[0;36mload_version\u001b[1;34m()\u001b[0m\n\u001b[0;32m      1\u001b[0m \u001b[38;5;28;01mdef\u001b[39;00m\u001b[38;5;250m \u001b[39m\u001b[38;5;21mload_version\u001b[39m() :\n\u001b[1;32m----> 2\u001b[0m     verstion_path \u001b[38;5;241m=\u001b[39m Path(\u001b[38;5;18;43m__file__\u001b[39;49m)\u001b[38;5;241m.\u001b[39mparent\u001b[38;5;241m/\u001b[39m\u001b[38;5;124m\"\u001b[39m\u001b[38;5;124mJoti\u001b[39m\u001b[38;5;124m\"\u001b[39m\u001b[38;5;241m/\u001b[39m\u001b[38;5;124m\"\u001b[39m\u001b[38;5;124m__version__.py\u001b[39m\u001b[38;5;124m\"\u001b[39m\n",
      "\u001b[1;31mNameError\u001b[0m: name '__file__' is not defined"
     ]
    }
   ],
   "source": [
    "load_version()"
   ]
  },
  {
   "cell_type": "code",
   "execution_count": null,
   "id": "fcf2d2c4",
   "metadata": {},
   "outputs": [],
   "source": []
  },
  {
   "cell_type": "code",
   "execution_count": 22,
   "id": "5cbe68ac",
   "metadata": {},
   "outputs": [
    {
     "data": {
      "text/plain": [
       "WindowsPath('__main__')"
      ]
     },
     "execution_count": 22,
     "metadata": {},
     "output_type": "execute_result"
    }
   ],
   "source": [
    "Path(__name__)"
   ]
  },
  {
   "cell_type": "code",
   "execution_count": 35,
   "id": "30dbe51b",
   "metadata": {},
   "outputs": [
    {
     "data": {
      "text/plain": [
       "WindowsPath('__file__')"
      ]
     },
     "execution_count": 35,
     "metadata": {},
     "output_type": "execute_result"
    }
   ],
   "source": [
    "Path(\"__file__\")"
   ]
  },
  {
   "cell_type": "code",
   "execution_count": 38,
   "id": "0b4d622e",
   "metadata": {},
   "outputs": [
    {
     "data": {
      "text/plain": [
       "WindowsPath('NER-Project/__version__.py')"
      ]
     },
     "execution_count": 38,
     "metadata": {},
     "output_type": "execute_result"
    }
   ],
   "source": [
    "Path(\"__file__\").parent/\"NER-Project\"/\"__version__.py\""
   ]
  },
  {
   "cell_type": "code",
   "execution_count": 33,
   "id": "a21ade81",
   "metadata": {},
   "outputs": [
    {
     "ename": "NameError",
     "evalue": "name '__file__' is not defined",
     "output_type": "error",
     "traceback": [
      "\u001b[1;31m---------------------------------------------------------------------------\u001b[0m",
      "\u001b[1;31mNameError\u001b[0m                                 Traceback (most recent call last)",
      "Cell \u001b[1;32mIn[33], line 1\u001b[0m\n\u001b[1;32m----> 1\u001b[0m Path(\u001b[38;5;18;43m__file__\u001b[39;49m)\n",
      "\u001b[1;31mNameError\u001b[0m: name '__file__' is not defined"
     ]
    }
   ],
   "source": [
    "Path(__file__)"
   ]
  },
  {
   "cell_type": "code",
   "execution_count": null,
   "id": "0da27eda",
   "metadata": {},
   "outputs": [],
   "source": []
  }
 ],
 "metadata": {
  "kernelspec": {
   "display_name": "Python 3",
   "language": "python",
   "name": "python3"
  },
  "language_info": {
   "codemirror_mode": {
    "name": "ipython",
    "version": 3
   },
   "file_extension": ".py",
   "mimetype": "text/x-python",
   "name": "python",
   "nbconvert_exporter": "python",
   "pygments_lexer": "ipython3",
   "version": "3.10.16"
  }
 },
 "nbformat": 4,
 "nbformat_minor": 5
}
