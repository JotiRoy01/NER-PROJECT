{
 "cells": [
  {
   "cell_type": "code",
   "execution_count": 8,
   "id": "b9809185",
   "metadata": {},
   "outputs": [],
   "source": [
    "class Pipeline :\n",
    "    name : str\n",
    "    age = 10\n",
    "    def func(self) ->str:\n",
    "        self.experiment = \"Pipeline Experiment\"\n",
    "        return self.experiment"
   ]
  },
  {
   "cell_type": "code",
   "execution_count": 9,
   "id": "604baf3d",
   "metadata": {},
   "outputs": [],
   "source": [
    "obj = Pipeline()"
   ]
  },
  {
   "cell_type": "code",
   "execution_count": 10,
   "id": "6164b1de",
   "metadata": {},
   "outputs": [
    {
     "data": {
      "text/plain": [
       "'Pipeline Experiment'"
      ]
     },
     "execution_count": 10,
     "metadata": {},
     "output_type": "execute_result"
    }
   ],
   "source": [
    "obj.func()"
   ]
  },
  {
   "cell_type": "code",
   "execution_count": null,
   "id": "43056973",
   "metadata": {},
   "outputs": [],
   "source": []
  }
 ],
 "metadata": {
  "kernelspec": {
   "display_name": "Python 3",
   "language": "python",
   "name": "python3"
  },
  "language_info": {
   "codemirror_mode": {
    "name": "ipython",
    "version": 3
   },
   "file_extension": ".py",
   "mimetype": "text/x-python",
   "name": "python",
   "nbconvert_exporter": "python",
   "pygments_lexer": "ipython3",
   "version": "3.10.16"
  }
 },
 "nbformat": 4,
 "nbformat_minor": 5
}
