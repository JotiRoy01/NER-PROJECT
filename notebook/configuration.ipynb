{
 "cells": [
  {
   "cell_type": "code",
   "execution_count": 21,
   "id": "6c2db4f5",
   "metadata": {},
   "outputs": [],
   "source": [
    "class Solution :\n",
    "    def __init__(self, name:str, age:int) :\n",
    "        self.name = name\n",
    "        self.age = age\n",
    "\n",
    "    def man(self) -> str:\n",
    "        self.job = \"data scientist\"\n",
    "        salary = 90000\n",
    "        return self"
   ]
  },
  {
   "cell_type": "code",
   "execution_count": 22,
   "id": "e9542c23",
   "metadata": {},
   "outputs": [],
   "source": [
    "obj = Solution(\"Joti\",25)"
   ]
  },
  {
   "cell_type": "code",
   "execution_count": 23,
   "id": "793f28a5",
   "metadata": {},
   "outputs": [
    {
     "data": {
      "text/plain": [
       "'Joti'"
      ]
     },
     "execution_count": 23,
     "metadata": {},
     "output_type": "execute_result"
    }
   ],
   "source": [
    "obj.name"
   ]
  },
  {
   "cell_type": "code",
   "execution_count": 24,
   "id": "7c6d9821",
   "metadata": {},
   "outputs": [
    {
     "data": {
      "text/plain": [
       "'data scientist'"
      ]
     },
     "execution_count": 24,
     "metadata": {},
     "output_type": "execute_result"
    }
   ],
   "source": [
    "obj.man().job"
   ]
  },
  {
   "cell_type": "code",
   "execution_count": 26,
   "id": "26f5ef07",
   "metadata": {},
   "outputs": [
    {
     "ename": "AttributeError",
     "evalue": "'Solution' object has no attribute 'main'",
     "output_type": "error",
     "traceback": [
      "\u001b[1;31m---------------------------------------------------------------------------\u001b[0m",
      "\u001b[1;31mAttributeError\u001b[0m                            Traceback (most recent call last)",
      "Cell \u001b[1;32mIn[26], line 1\u001b[0m\n\u001b[1;32m----> 1\u001b[0m \u001b[43mobj\u001b[49m\u001b[38;5;241;43m.\u001b[39;49m\u001b[43mmain\u001b[49m()\u001b[38;5;241m.\u001b[39msalary\n",
      "\u001b[1;31mAttributeError\u001b[0m: 'Solution' object has no attribute 'main'"
     ]
    }
   ],
   "source": [
    "obj.main().salary"
   ]
  },
  {
   "cell_type": "code",
   "execution_count": null,
   "id": "64c58b45",
   "metadata": {},
   "outputs": [],
   "source": []
  }
 ],
 "metadata": {
  "kernelspec": {
   "display_name": "Python 3",
   "language": "python",
   "name": "python3"
  },
  "language_info": {
   "codemirror_mode": {
    "name": "ipython",
    "version": 3
   },
   "file_extension": ".py",
   "mimetype": "text/x-python",
   "name": "python",
   "nbconvert_exporter": "python",
   "pygments_lexer": "ipython3",
   "version": "3.10.16"
  }
 },
 "nbformat": 4,
 "nbformat_minor": 5
}
