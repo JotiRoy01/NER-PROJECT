{
 "cells": [
  {
   "cell_type": "code",
   "execution_count": 11,
   "id": "6c2db4f5",
   "metadata": {},
   "outputs": [],
   "source": [
    "class Solution :\n",
    "    def __init__(self, name:str, age:int) :\n",
    "        self.name = name\n",
    "        self.age = age\n",
    "\n",
    "    def man(self) -> str:\n",
    "        self.job = \"data scientist\"\n",
    "        salary = 90000\n",
    "        return \"python\""
   ]
  },
  {
   "cell_type": "code",
   "execution_count": 12,
   "id": "e9542c23",
   "metadata": {},
   "outputs": [],
   "source": [
    "obj = Solution(\"Joti\",25)"
   ]
  },
  {
   "cell_type": "code",
   "execution_count": 13,
   "id": "793f28a5",
   "metadata": {},
   "outputs": [
    {
     "data": {
      "text/plain": [
       "'Joti'"
      ]
     },
     "execution_count": 13,
     "metadata": {},
     "output_type": "execute_result"
    }
   ],
   "source": [
    "obj.name"
   ]
  },
  {
   "cell_type": "code",
   "execution_count": 14,
   "id": "dd961b48",
   "metadata": {},
   "outputs": [
    {
     "data": {
      "text/plain": [
       "25"
      ]
     },
     "execution_count": 14,
     "metadata": {},
     "output_type": "execute_result"
    }
   ],
   "source": [
    "obj.age"
   ]
  },
  {
   "cell_type": "code",
   "execution_count": 15,
   "id": "ecfb3816",
   "metadata": {},
   "outputs": [
    {
     "data": {
      "text/plain": [
       "str"
      ]
     },
     "execution_count": 15,
     "metadata": {},
     "output_type": "execute_result"
    }
   ],
   "source": [
    "type(obj.man())"
   ]
  },
  {
   "cell_type": "code",
   "execution_count": 16,
   "id": "9ad07d1f",
   "metadata": {},
   "outputs": [
    {
     "ename": "AttributeError",
     "evalue": "'str' object has no attribute 'job'",
     "output_type": "error",
     "traceback": [
      "\u001b[1;31m---------------------------------------------------------------------------\u001b[0m",
      "\u001b[1;31mAttributeError\u001b[0m                            Traceback (most recent call last)",
      "Cell \u001b[1;32mIn[16], line 1\u001b[0m\n\u001b[1;32m----> 1\u001b[0m \u001b[43mobj\u001b[49m\u001b[38;5;241;43m.\u001b[39;49m\u001b[43mman\u001b[49m\u001b[43m(\u001b[49m\u001b[43m)\u001b[49m\u001b[38;5;241;43m.\u001b[39;49m\u001b[43mjob\u001b[49m\n",
      "\u001b[1;31mAttributeError\u001b[0m: 'str' object has no attribute 'job'"
     ]
    }
   ],
   "source": [
    "obj.man().job"
   ]
  },
  {
   "cell_type": "code",
   "execution_count": 4,
   "id": "7c6d9821",
   "metadata": {},
   "outputs": [
    {
     "ename": "AttributeError",
     "evalue": "'int' object has no attribute 'job'",
     "output_type": "error",
     "traceback": [
      "\u001b[1;31m---------------------------------------------------------------------------\u001b[0m",
      "\u001b[1;31mAttributeError\u001b[0m                            Traceback (most recent call last)",
      "Cell \u001b[1;32mIn[4], line 1\u001b[0m\n\u001b[1;32m----> 1\u001b[0m \u001b[43mobj\u001b[49m\u001b[38;5;241;43m.\u001b[39;49m\u001b[43mman\u001b[49m\u001b[43m(\u001b[49m\u001b[43m)\u001b[49m\u001b[38;5;241;43m.\u001b[39;49m\u001b[43mjob\u001b[49m\n",
      "\u001b[1;31mAttributeError\u001b[0m: 'int' object has no attribute 'job'"
     ]
    }
   ],
   "source": [
    "obj.man().job"
   ]
  },
  {
   "cell_type": "code",
   "execution_count": 26,
   "id": "26f5ef07",
   "metadata": {},
   "outputs": [
    {
     "ename": "AttributeError",
     "evalue": "'Solution' object has no attribute 'main'",
     "output_type": "error",
     "traceback": [
      "\u001b[1;31m---------------------------------------------------------------------------\u001b[0m",
      "\u001b[1;31mAttributeError\u001b[0m                            Traceback (most recent call last)",
      "Cell \u001b[1;32mIn[26], line 1\u001b[0m\n\u001b[1;32m----> 1\u001b[0m \u001b[43mobj\u001b[49m\u001b[38;5;241;43m.\u001b[39;49m\u001b[43mmain\u001b[49m()\u001b[38;5;241m.\u001b[39msalary\n",
      "\u001b[1;31mAttributeError\u001b[0m: 'Solution' object has no attribute 'main'"
     ]
    }
   ],
   "source": [
    "obj.main().salary"
   ]
  },
  {
   "cell_type": "code",
   "execution_count": 5,
   "id": "6e4ad2c7",
   "metadata": {},
   "outputs": [],
   "source": [
    "#from NER.constants import *"
   ]
  },
  {
   "cell_type": "code",
   "execution_count": 6,
   "id": "040994cf",
   "metadata": {},
   "outputs": [
    {
     "data": {
      "text/plain": [
       "'/config/file.yaml'"
      ]
     },
     "execution_count": 6,
     "metadata": {},
     "output_type": "execute_result"
    }
   ],
   "source": [
    "CONFIG_FILE_PATH = \"/config/file.yaml\"\n",
    "CONFIG_FILE_PATH"
   ]
  },
  {
   "cell_type": "code",
   "execution_count": 7,
   "id": "6347a248",
   "metadata": {},
   "outputs": [],
   "source": [
    "import os"
   ]
  },
  {
   "cell_type": "code",
   "execution_count": 8,
   "id": "64819543",
   "metadata": {},
   "outputs": [],
   "source": [
    "cwd = os.getcwd()"
   ]
  },
  {
   "cell_type": "code",
   "execution_count": null,
   "id": "cbe35562",
   "metadata": {},
   "outputs": [],
   "source": []
  },
  {
   "cell_type": "code",
   "execution_count": 11,
   "id": "5cdaecea",
   "metadata": {},
   "outputs": [
    {
     "data": {
      "text/plain": [
       "'d:\\\\Develops\\\\ML_PROJECT\\\\NER-PROJECT\\\\notebook'"
      ]
     },
     "execution_count": 11,
     "metadata": {},
     "output_type": "execute_result"
    }
   ],
   "source": [
    "cwd"
   ]
  },
  {
   "cell_type": "code",
   "execution_count": 9,
   "id": "d44cb772",
   "metadata": {},
   "outputs": [],
   "source": [
    "CONFIG_FILE_PATH = os.path.join(cwd, CONFIG_FILE_PATH)"
   ]
  },
  {
   "cell_type": "code",
   "execution_count": 10,
   "id": "958f463b",
   "metadata": {},
   "outputs": [
    {
     "data": {
      "text/plain": [
       "'d:/config/file.yaml'"
      ]
     },
     "execution_count": 10,
     "metadata": {},
     "output_type": "execute_result"
    }
   ],
   "source": [
    "CONFIG_FILE_PATH"
   ]
  },
  {
   "cell_type": "code",
   "execution_count": null,
   "id": "64c58b45",
   "metadata": {},
   "outputs": [],
   "source": [
    "class Configuration() :\n",
    "    def __init__(self, config_path:str) :\n",
    "        "
   ]
  },
  {
   "cell_type": "code",
   "execution_count": 1,
   "id": "d312cbd4",
   "metadata": {},
   "outputs": [],
   "source": [
    "from NER.constants import *\n",
    "\n"
   ]
  },
  {
   "cell_type": "code",
   "execution_count": 2,
   "id": "0de4bf6b",
   "metadata": {},
   "outputs": [
    {
     "ename": "NameError",
     "evalue": "name 'DATA_INGESTION' is not defined",
     "output_type": "error",
     "traceback": [
      "\u001b[1;31m---------------------------------------------------------------------------\u001b[0m",
      "\u001b[1;31mNameError\u001b[0m                                 Traceback (most recent call last)",
      "Cell \u001b[1;32mIn[2], line 1\u001b[0m\n\u001b[1;32m----> 1\u001b[0m \u001b[43mDATA_INGESTION\u001b[49m\n",
      "\u001b[1;31mNameError\u001b[0m: name 'DATA_INGESTION' is not defined"
     ]
    }
   ],
   "source": [
    "DATA_INGESTION"
   ]
  },
  {
   "cell_type": "code",
   "execution_count": null,
   "id": "017b9b0e",
   "metadata": {},
   "outputs": [],
   "source": []
  }
 ],
 "metadata": {
  "kernelspec": {
   "display_name": "Python 3",
   "language": "python",
   "name": "python3"
  },
  "language_info": {
   "codemirror_mode": {
    "name": "ipython",
    "version": 3
   },
   "file_extension": ".py",
   "mimetype": "text/x-python",
   "name": "python",
   "nbconvert_exporter": "python",
   "pygments_lexer": "ipython3",
   "version": "3.10.16"
  }
 },
 "nbformat": 4,
 "nbformat_minor": 5
}
